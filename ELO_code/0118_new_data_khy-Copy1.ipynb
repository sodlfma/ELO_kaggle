{
 "cells": [
  {
   "cell_type": "code",
   "execution_count": null,
   "metadata": {},
   "outputs": [],
   "source": [
    "# This Python 3 environment comes with many helpful analytics libraries installed\n",
    "# It is defined by the kaggle/python docker image: https://github.com/kaggle/docker-python\n",
    "# For example, here's several helpful packages to load in \n",
    "\n",
    "import numpy as np # linear algebra\n",
    "import pandas as pd # data processing, CSV file I/O (e.g. pd.read_csv)\n",
    "\n",
    "# Input data files are available in the \"../input/\" directory.\n",
    "# For example, running this (by clicking run or pressing Shift+Enter) will list the files in the input directory\n",
    "from datetime import datetime as dt\n",
    "import os\n",
    "import gc\n",
    "import matplotlib.pyplot as plt\n",
    "import seaborn as sns\n",
    "# print(os.listdir(\"../input\"))\n",
    "\n",
    "# Any results you write to the current directory are saved as output."
   ]
  },
  {
   "cell_type": "code",
   "execution_count": 2,
   "metadata": {},
   "outputs": [],
   "source": [
    "new = pd.read_csv(\"new2.csv\")"
   ]
  },
  {
   "cell_type": "code",
   "execution_count": 3,
   "metadata": {},
   "outputs": [],
   "source": [
    "def reduce_mem_usage(df, verbose=True):\n",
    "    numerics = ['int16', 'int32', 'int64', 'float16', 'float32', 'float64']\n",
    "    start_mem = df.memory_usage().sum() / 1024**2    \n",
    "    for col in df.columns:\n",
    "        col_type = df[col].dtypes\n",
    "        if col_type in numerics:\n",
    "            c_min = df[col].min()\n",
    "            c_max = df[col].max()\n",
    "            if str(col_type)[:3] == 'int':\n",
    "                if c_min > np.iinfo(np.int8).min and c_max < np.iinfo(np.int8).max:\n",
    "                    df[col] = df[col].astype(np.int8)\n",
    "                elif c_min > np.iinfo(np.int16).min and c_max < np.iinfo(np.int16).max:\n",
    "                    df[col] = df[col].astype(np.int16)\n",
    "                elif c_min > np.iinfo(np.int32).min and c_max < np.iinfo(np.int32).max:\n",
    "                    df[col] = df[col].astype(np.int32)\n",
    "                elif c_min > np.iinfo(np.int64).min and c_max < np.iinfo(np.int64).max:\n",
    "                    df[col] = df[col].astype(np.int64)  \n",
    "            else:\n",
    "                if c_min > np.finfo(np.float16).min and c_max < np.finfo(np.float16).max:\n",
    "                    df[col] = df[col].astype(np.float16)\n",
    "                elif c_min > np.finfo(np.float32).min and c_max < np.finfo(np.float32).max:\n",
    "                    df[col] = df[col].astype(np.float32)\n",
    "                else:\n",
    "                    df[col] = df[col].astype(np.float64)    \n",
    "    end_mem = df.memory_usage().sum() / 1024**2\n",
    "    if verbose: print('Mem. usage decreased to {:5.2f} Mb ({:.1f}% reduction)'.format(end_mem, 100 * (start_mem - end_mem) / start_mem))\n",
    "    return df"
   ]
  },
  {
   "cell_type": "code",
   "execution_count": 4,
   "metadata": {},
   "outputs": [
    {
     "name": "stdout",
     "output_type": "stream",
     "text": [
      "Mem. usage decreased to 164.74 Mb (59.3% reduction)\n"
     ]
    }
   ],
   "source": [
    "new = reduce_mem_usage(new, verbose=True)"
   ]
  },
  {
   "cell_type": "code",
   "execution_count": 11,
   "metadata": {},
   "outputs": [
    {
     "data": {
      "text/plain": [
       "Unnamed: 0                       int32\n",
       "Unnamed: 0.1                     int32\n",
       "authorized_flag                 object\n",
       "card_id                         object\n",
       "city_id                          int16\n",
       "category_1                      object\n",
       "installments                     int16\n",
       "category_3                      object\n",
       "merchant_category_id             int16\n",
       "merchant_id                     object\n",
       "month_lag                         int8\n",
       "purchase_amount                float16\n",
       "purchase_date           datetime64[ns]\n",
       "category_2                     float16\n",
       "state_id                          int8\n",
       "subsector_id_x                    int8\n",
       "feature_1                         int8\n",
       "feature_2                         int8\n",
       "feature_3                         int8\n",
       "first_active_month              object\n",
       "subsector_id_y                    int8\n",
       "purchase_year                    int16\n",
       "purchase_month                    int8\n",
       "purchase_day                      int8\n",
       "purchase_hour                     int8\n",
       "purchase_minute                   int8\n",
       "purchase_second                   int8\n",
       "dtype: object"
      ]
     },
     "execution_count": 11,
     "metadata": {},
     "output_type": "execute_result"
    }
   ],
   "source": [
    "new.dtypes"
   ]
  },
  {
   "cell_type": "code",
   "execution_count": 44,
   "metadata": {},
   "outputs": [
    {
     "data": {
      "text/plain": [
       "226127"
      ]
     },
     "execution_count": 44,
     "metadata": {},
     "output_type": "execute_result"
    }
   ],
   "source": [
    "len(new[\"merchant_id\"].unique())"
   ]
  },
  {
   "cell_type": "code",
   "execution_count": 94,
   "metadata": {},
   "outputs": [
    {
     "data": {
      "text/plain": [
       "290001"
      ]
     },
     "execution_count": 94,
     "metadata": {},
     "output_type": "execute_result"
    }
   ],
   "source": [
    "len(new[\"card_id\"].unique())"
   ]
  },
  {
   "cell_type": "code",
   "execution_count": 9,
   "metadata": {},
   "outputs": [],
   "source": [
    "#날짜 데이터 타입 바꿔주기\n",
    "def todt(data, dformat):\n",
    "    l = []\n",
    "    for i in data:\n",
    "        a = dt.strptime(i, dformat)\n",
    "        l.append(a)\n",
    "        \n",
    "    return l"
   ]
  },
  {
   "cell_type": "code",
   "execution_count": 10,
   "metadata": {},
   "outputs": [],
   "source": [
    "temp = todt(new[\"purchase_date\"], \"%Y-%m-%d %H:%M:%S\")\n",
    "new[\"purchase_date\"] = temp"
   ]
  },
  {
   "cell_type": "code",
   "execution_count": 69,
   "metadata": {},
   "outputs": [
    {
     "data": {
      "text/plain": [
       "8723"
      ]
     },
     "execution_count": 69,
     "metadata": {},
     "output_type": "execute_result"
    }
   ],
   "source": [
    "gc.collect()"
   ]
  },
  {
   "cell_type": "code",
   "execution_count": 70,
   "metadata": {},
   "outputs": [],
   "source": [
    "cate2 =list(new[\"category_2\"].unique())"
   ]
  },
  {
   "cell_type": "code",
   "execution_count": 71,
   "metadata": {},
   "outputs": [
    {
     "data": {
      "text/plain": [
       "[1.0, 3.0, 4.0, 2.0, 5.0, nan]"
      ]
     },
     "execution_count": 71,
     "metadata": {},
     "output_type": "execute_result"
    }
   ],
   "source": [
    "cate2"
   ]
  },
  {
   "cell_type": "code",
   "execution_count": 32,
   "metadata": {},
   "outputs": [],
   "source": [
    "city =list(his[\"city_id\"].unique())"
   ]
  },
  {
   "cell_type": "code",
   "execution_count": 73,
   "metadata": {},
   "outputs": [],
   "source": [
    "cate2 = new[\"category_2\"]\n",
    "temp = []\n",
    "for i in cate2:\n",
    "    if np.isnan(i):\n",
    "        temp.append(-99)\n",
    "    else:\n",
    "        temp.append(i)"
   ]
  },
  {
   "cell_type": "code",
   "execution_count": 74,
   "metadata": {},
   "outputs": [],
   "source": [
    "new[\"cate2_fillna\"] = temp"
   ]
  },
  {
   "cell_type": "code",
   "execution_count": 75,
   "metadata": {},
   "outputs": [],
   "source": [
    "def categorize(df, inputcol, outputcol):\n",
    "    mcl = df[inputcol].unique()\n",
    "    dic2 = {}\n",
    "    for i in mcl:\n",
    "        dic2[i] = len(df[df[inputcol]==i].groupby(outputcol).size())\n",
    "    return dic2\n",
    "#     if dic2.values()"
   ]
  },
  {
   "cell_type": "code",
   "execution_count": 85,
   "metadata": {},
   "outputs": [],
   "source": [
    "c_s = categorize(new, \"city_id\", \"cate2_fillna\")"
   ]
  },
  {
   "cell_type": "code",
   "execution_count": 77,
   "metadata": {},
   "outputs": [],
   "source": [
    "def categorize2(df, inputcol, outputcol):\n",
    "    dic1 ={}\n",
    "\n",
    "    for i in range(len(df)):\n",
    "        key = df[outputcol][i]\n",
    "        val = df[inputcol][i]\n",
    "        if key in dic1:\n",
    "            dic1[key].add(val)\n",
    "        else: \n",
    "            dic1[key] =set([val])\n",
    "            \n",
    "    return dic1"
   ]
  },
  {
   "cell_type": "code",
   "execution_count": 92,
   "metadata": {},
   "outputs": [
    {
     "data": {
      "text/plain": [
       "{107: {1.0, 4.0, 5.0},\n",
       " 140: {1.0},\n",
       " 231: {1.0},\n",
       " 69: {1.0},\n",
       " 246: {3.0},\n",
       " 271: {1.0},\n",
       " 17: {4.0},\n",
       " 264: {2.0},\n",
       " 223: {5.0},\n",
       " 143: {5.0},\n",
       " 149: {1.0, 5.0},\n",
       " 4: {2.0},\n",
       " 87: {3.0},\n",
       " 329: {1.0},\n",
       " 73: {3.0},\n",
       " 20: {-99.0, 1.0, 3.0},\n",
       " 322: {-99.0, 2.0, 3.0, 4.0, 5.0},\n",
       " 19: {1.0},\n",
       " 117: {1.0, 2.0, 3.0, 4.0, 5.0},\n",
       " 333: {1.0, 5.0},\n",
       " 260: {5.0},\n",
       " 41: {5.0},\n",
       " 233: {1.0},\n",
       " 168: {1.0},\n",
       " 56: {5.0},\n",
       " 162: {5.0},\n",
       " 150: {5.0},\n",
       " 213: {1.0},\n",
       " 274: {1.0},\n",
       " 283: {1.0},\n",
       " 100: {1.0},\n",
       " 60: {1.0},\n",
       " 137: {3.0},\n",
       " 327: {1.0},\n",
       " 171: {5.0},\n",
       " -1: {-99.0},\n",
       " 25: {3.0},\n",
       " 57: {1.0, 5.0},\n",
       " 158: {1.0},\n",
       " 3: {1.0},\n",
       " 88: {1.0},\n",
       " 331: {-99.0, 1.0, 2.0, 3.0, 4.0, 5.0},\n",
       " 11: {2.0},\n",
       " 291: {1.0},\n",
       " 295: {1.0},\n",
       " 101: {4.0},\n",
       " 229: {1.0},\n",
       " 116: {1.0},\n",
       " 160: {5.0},\n",
       " 261: {1.0},\n",
       " 314: {1.0},\n",
       " 83: {1.0},\n",
       " 244: {-99.0, 1.0, 2.0, 3.0, 5.0},\n",
       " 188: {1.0},\n",
       " 128: {1.0},\n",
       " 182: {5.0},\n",
       " 96: {1.0, 2.0, 5.0},\n",
       " 172: {4.0},\n",
       " 33: {1.0},\n",
       " 76: {3.0},\n",
       " 242: {1.0},\n",
       " 24: {1.0},\n",
       " 44: {5.0},\n",
       " 247: {5.0},\n",
       " 320: {4.0},\n",
       " 208: {2.0},\n",
       " 159: {1.0},\n",
       " 266: {1.0, 2.0, 3.0, 4.0, 5.0},\n",
       " 115: {1.0},\n",
       " 340: {1.0},\n",
       " 78: {1.0},\n",
       " 173: {1.0},\n",
       " 313: {5.0},\n",
       " 278: {5.0},\n",
       " 275: {1.0},\n",
       " 163: {1.0},\n",
       " 209: {1.0},\n",
       " 14: {5.0},\n",
       " 53: {5.0},\n",
       " 169: {5.0},\n",
       " 138: {1.0},\n",
       " 325: {1.0},\n",
       " 341: {1.0},\n",
       " 276: {1.0},\n",
       " 193: {1.0},\n",
       " 344: {2.0},\n",
       " 238: {1.0},\n",
       " 318: {1.0},\n",
       " 255: {1.0},\n",
       " 309: {1.0},\n",
       " 248: {1.0},\n",
       " 8: {1.0},\n",
       " 102: {2.0},\n",
       " 51: {1.0},\n",
       " 321: {1.0},\n",
       " 133: {3.0},\n",
       " 292: {1.0, 3.0, 5.0},\n",
       " 277: {4.0},\n",
       " 280: {3.0},\n",
       " 48: {1.0},\n",
       " 211: {3.0},\n",
       " 302: {1.0, 3.0, 5.0},\n",
       " 30: {3.0},\n",
       " 12: {5.0},\n",
       " 148: {3.0},\n",
       " 61: {1.0},\n",
       " 323: {3.0},\n",
       " 232: {4.0},\n",
       " 268: {5.0},\n",
       " 142: {3.0},\n",
       " 282: {2.0},\n",
       " 258: {3.0},\n",
       " 226: {1.0},\n",
       " 304: {5.0},\n",
       " 6: {1.0},\n",
       " 212: {4.0},\n",
       " 219: {1.0},\n",
       " 189: {1.0},\n",
       " 190: {3.0},\n",
       " 308: {1.0},\n",
       " 64: {1.0},\n",
       " 153: {1.0},\n",
       " 186: {1.0},\n",
       " 125: {1.0},\n",
       " 109: {1.0, 3.0},\n",
       " 230: {1.0},\n",
       " 1: {1.0},\n",
       " 126: {4.0},\n",
       " 105: {1.0},\n",
       " 111: {1.0},\n",
       " 199: {1.0, 4.0, 5.0},\n",
       " 337: {5.0},\n",
       " 281: {5.0},\n",
       " 339: {1.0},\n",
       " 175: {1.0},\n",
       " 270: {1.0},\n",
       " 110: {1.0},\n",
       " 21: {1.0},\n",
       " 13: {1.0},\n",
       " 174: {1.0},\n",
       " 136: {4.0},\n",
       " 285: {1.0},\n",
       " 296: {1.0},\n",
       " 250: {1.0},\n",
       " 7: {1.0},\n",
       " 166: {4.0},\n",
       " 34: {1.0},\n",
       " 251: {3.0},\n",
       " 124: {2.0},\n",
       " 200: {2.0},\n",
       " 347: {5.0},\n",
       " 129: {1.0},\n",
       " 9: {1.0},\n",
       " 298: {1.0},\n",
       " 311: {1.0},\n",
       " 335: {4.0},\n",
       " 222: {4.0},\n",
       " 62: {1.0},\n",
       " 40: {3.0},\n",
       " 183: {1.0},\n",
       " 179: {-99.0},\n",
       " 2: {3.0},\n",
       " 272: {1.0},\n",
       " 147: {3.0},\n",
       " 265: {1.0},\n",
       " 80: {4.0},\n",
       " 135: {3.0},\n",
       " 279: {1.0},\n",
       " 273: {5.0},\n",
       " 206: {2.0},\n",
       " 82: {2.0},\n",
       " 286: {3.0},\n",
       " 86: {3.0},\n",
       " 161: {3.0},\n",
       " 240: {5.0},\n",
       " 52: {4.0},\n",
       " 167: {1.0},\n",
       " 289: {5.0},\n",
       " 210: {1.0},\n",
       " 326: {1.0},\n",
       " 294: {1.0},\n",
       " 70: {1.0},\n",
       " 259: {5.0},\n",
       " 10: {3.0},\n",
       " 130: {3.0},\n",
       " 42: {3.0},\n",
       " 287: {5.0},\n",
       " 38: {3.0},\n",
       " 330: {1.0, 3.0},\n",
       " 214: {1.0},\n",
       " 66: {3.0},\n",
       " 36: {2.0},\n",
       " 58: {4.0},\n",
       " 139: {1.0},\n",
       " 97: {3.0},\n",
       " 165: {1.0},\n",
       " 245: {4.0},\n",
       " 303: {1.0},\n",
       " 256: {5.0},\n",
       " 170: {-99.0, 1.0, 3.0, 4.0, 5.0},\n",
       " 113: {3.0},\n",
       " 29: {1.0},\n",
       " 46: {3.0},\n",
       " 155: {1.0},\n",
       " 216: {5.0},\n",
       " 85: {3.0},\n",
       " 269: {5.0},\n",
       " 144: {3.0},\n",
       " 74: {1.0},\n",
       " 187: {1.0},\n",
       " 300: {1.0},\n",
       " 98: {1.0},\n",
       " 90: {1.0},\n",
       " 94: {3.0},\n",
       " 75: {-99.0},\n",
       " 338: {3.0},\n",
       " 181: {5.0},\n",
       " 157: {4.0},\n",
       " 23: {1.0},\n",
       " 252: {1.0},\n",
       " 106: {1.0},\n",
       " 224: {1.0},\n",
       " 297: {1.0},\n",
       " 49: {1.0},\n",
       " 254: {1.0},\n",
       " 119: {5.0},\n",
       " 262: {1.0},\n",
       " 114: {4.0},\n",
       " 26: {5.0},\n",
       " 16: {3.0},\n",
       " 221: {2.0},\n",
       " 47: {1.0},\n",
       " 334: {5.0},\n",
       " 81: {2.0},\n",
       " 288: {5.0},\n",
       " 151: {1.0},\n",
       " 220: {1.0},\n",
       " 191: {1.0},\n",
       " 307: {2.0},\n",
       " 18: {4.0},\n",
       " 79: {1.0},\n",
       " 146: {3.0},\n",
       " 197: {1.0},\n",
       " 63: {1.0},\n",
       " 343: {1.0},\n",
       " 218: {1.0},\n",
       " 215: {2.0},\n",
       " 156: {3.0},\n",
       " 234: {5.0},\n",
       " 54: {1.0},\n",
       " 131: {1.0},\n",
       " 204: {2.0},\n",
       " 112: {4.0},\n",
       " 253: {1.0},\n",
       " 342: {5.0},\n",
       " 65: {1.0},\n",
       " 267: {1.0},\n",
       " 68: {1.0},\n",
       " 184: {1.0},\n",
       " 120: {5.0},\n",
       " 22: {1.0},\n",
       " 39: {5.0},\n",
       " 299: {1.0},\n",
       " 91: {1.0},\n",
       " 290: {1.0},\n",
       " 198: {1.0},\n",
       " 77: {1.0},\n",
       " 201: {5.0},\n",
       " 28: {1.0},\n",
       " 312: {1.0},\n",
       " 104: {1.0},\n",
       " 145: {5.0},\n",
       " 301: {3.0},\n",
       " 122: {2.0},\n",
       " 336: {1.0},\n",
       " 236: {1.0},\n",
       " 237: {1.0},\n",
       " 239: {3.0},\n",
       " 227: {2.0},\n",
       " 328: {1.0},\n",
       " 108: {1.0},\n",
       " 345: {1.0},\n",
       " 195: {4.0},\n",
       " 207: {5.0},\n",
       " 315: {-99.0},\n",
       " 310: {5.0},\n",
       " 123: {3.0},\n",
       " 235: {1.0},\n",
       " 32: {1.0},\n",
       " 194: {5.0},\n",
       " 180: {2.0},\n",
       " 205: {4.0},\n",
       " 263: {3.0},\n",
       " 293: {2.0},\n",
       " 103: {2.0},\n",
       " 203: {4.0},\n",
       " 35: {1.0},\n",
       " 178: {5.0},\n",
       " 306: {5.0},\n",
       " 89: {5.0},\n",
       " 319: {1.0},\n",
       " 84: {1.0},\n",
       " 118: {1.0},\n",
       " 92: {2.0},\n",
       " 228: {1.0},\n",
       " 71: {1.0},\n",
       " 185: {3.0},\n",
       " 316: {2.0}}"
      ]
     },
     "execution_count": 92,
     "metadata": {},
     "output_type": "execute_result"
    }
   ],
   "source": [
    "categorize2(new, \"cate2_fillna\", \"city_id\")"
   ]
  },
  {
   "cell_type": "code",
   "execution_count": 55,
   "metadata": {},
   "outputs": [
    {
     "name": "stdout",
     "output_type": "stream",
     "text": [
      "true\n"
     ]
    }
   ],
   "source": [
    "if all(dic2.values()) ==1:\n",
    "    print(\"true\")"
   ]
  },
  {
   "cell_type": "code",
   "execution_count": 96,
   "metadata": {},
   "outputs": [
    {
     "data": {
      "text/plain": [
       "dict_values([3, 1, 1, 1, 1, 1, 1, 1, 1, 1, 2, 1, 1, 1, 1, 3, 5, 1, 5, 2, 1, 1, 1, 1, 1, 1, 1, 1, 1, 1, 1, 1, 1, 1, 1, 1, 1, 2, 1, 1, 1, 6, 1, 1, 1, 1, 1, 1, 1, 1, 1, 1, 5, 1, 1, 1, 3, 1, 1, 1, 1, 1, 1, 1, 1, 1, 1, 5, 1, 1, 1, 1, 1, 1, 1, 1, 1, 1, 1, 1, 1, 1, 1, 1, 1, 1, 1, 1, 1, 1, 1, 1, 1, 1, 1, 1, 3, 1, 1, 1, 1, 3, 1, 1, 1, 1, 1, 1, 1, 1, 1, 1, 1, 1, 1, 1, 1, 1, 1, 1, 1, 1, 1, 1, 2, 1, 1, 1, 1, 1, 3, 1, 1, 1, 1, 1, 1, 1, 1, 1, 1, 1, 1, 1, 1, 1, 1, 1, 1, 1, 1, 1, 1, 1, 1, 1, 1, 1, 1, 1, 1, 1, 1, 1, 1, 1, 1, 1, 1, 1, 1, 1, 1, 1, 1, 1, 1, 1, 1, 1, 1, 1, 1, 1, 1, 1, 1, 1, 2, 1, 1, 1, 1, 1, 1, 1, 1, 1, 1, 5, 1, 1, 1, 1, 1, 1, 1, 1, 1, 1, 1, 1, 1, 1, 1, 1, 1, 1, 1, 1, 1, 1, 1, 1, 1, 1, 1, 1, 1, 1, 1, 1, 1, 1, 1, 1, 1, 1, 1, 1, 1, 1, 1, 1, 1, 1, 1, 1, 1, 1, 1, 1, 1, 1, 1, 1, 1, 1, 1, 1, 1, 1, 1, 1, 1, 1, 1, 1, 1, 1, 1, 1, 1, 1, 1, 1, 1, 1, 1, 1, 1, 1, 1, 1, 1, 1, 1, 1, 1, 1, 1, 1, 1, 1, 1, 1, 1, 1, 1, 1, 1, 1, 1, 1, 1, 1, 1, 1])"
      ]
     },
     "execution_count": 96,
     "metadata": {},
     "output_type": "execute_result"
    }
   ],
   "source": [
    "c_s.values()"
   ]
  },
  {
   "cell_type": "markdown",
   "metadata": {},
   "source": [
    "## month lag"
   ]
  },
  {
   "cell_type": "code",
   "execution_count": 16,
   "metadata": {},
   "outputs": [
    {
     "data": {
      "text/plain": [
       "<matplotlib.axes._subplots.AxesSubplot at 0x7fb19d796da0>"
      ]
     },
     "execution_count": 16,
     "metadata": {},
     "output_type": "execute_result"
    },
    {
     "data": {
      "image/png": "[encoded data removed]",
      "text/plain": [
       "<Figure size 432x288 with 1 Axes>"
      ]
     },
     "metadata": {
      "needs_background": "light"
     },
     "output_type": "display_data"
    }
   ],
   "source": [
    "ml = new[\"month_lag\"].value_counts()\n",
    "ml = ml.sort_index()\n",
    "ml.plot(kind = \"bar\")"
   ]
  },
  {
   "cell_type": "markdown",
   "metadata": {},
   "source": [
    "## purchase date"
   ]
  },
  {
   "cell_type": "code",
   "execution_count": 18,
   "metadata": {},
   "outputs": [
    {
     "data": {
      "text/plain": [
       "(Timestamp('2017-03-01 03:24:51'), Timestamp('2018-04-30 23:59:59'))"
      ]
     },
     "execution_count": 18,
     "metadata": {},
     "output_type": "execute_result"
    }
   ],
   "source": [
    "min(new[\"purchase_date\"]), max(new[\"purchase_date\"])"
   ]
  },
  {
   "cell_type": "code",
   "execution_count": 19,
   "metadata": {},
   "outputs": [
    {
     "data": {
      "text/plain": [
       "<matplotlib.axes._subplots.AxesSubplot at 0x7fb19cc81a20>"
      ]
     },
     "execution_count": 19,
     "metadata": {},
     "output_type": "execute_result"
    },
    {
     "data": {
      "image/png": "[encoded data removed]",
      "text/plain": [
       "<Figure size 432x288 with 1 Axes>"
      ]
     },
     "metadata": {
      "needs_background": "light"
     },
     "output_type": "display_data"
    }
   ],
   "source": [
    "new[\"purchase_date\"].value_counts().plot()"
   ]
  },
  {
   "cell_type": "code",
   "execution_count": null,
   "metadata": {},
   "outputs": [],
   "source": [
    "new[\"purchase_date\"].value_counts().plot(kind = \"line\")"
   ]
  },
  {
   "cell_type": "code",
   "execution_count": 6,
   "metadata": {},
   "outputs": [
    {
     "data": {
      "text/plain": [
       "purchase_year  purchase_month\n",
       "2017           3                   1298\n",
       "               4                  11410\n",
       "               5                  21031\n",
       "               6                  23670\n",
       "               7                  29272\n",
       "               8                  29981\n",
       "               9                  33327\n",
       "               10                 38110\n",
       "               11                 45173\n",
       "               12                 70210\n",
       "2018           1                  84033\n",
       "               2                 110955\n",
       "               3                 806899\n",
       "               4                 657656\n",
       "dtype: int64"
      ]
     },
     "execution_count": 6,
     "metadata": {},
     "output_type": "execute_result"
    }
   ],
   "source": [
    "new.groupby([\"purchase_year\", \"purchase_month\"]).size()"
   ]
  },
  {
   "cell_type": "code",
   "execution_count": 7,
   "metadata": {},
   "outputs": [
    {
     "data": {
      "text/plain": [
       "222"
      ]
     },
     "execution_count": 7,
     "metadata": {},
     "output_type": "execute_result"
    }
   ],
   "source": [
    "gc.collect()"
   ]
  },
  {
   "cell_type": "code",
   "execution_count": 22,
   "metadata": {},
   "outputs": [
    {
     "data": {
      "text/plain": [
       "month_lag  purchase_year  purchase_month\n",
       "1          2017           3                   1298\n",
       "                          4                  10342\n",
       "                          5                  11750\n",
       "                          6                  12089\n",
       "                          7                  16093\n",
       "                          8                  15959\n",
       "                          9                  18089\n",
       "                          10                 21455\n",
       "                          11                 24105\n",
       "                          12                 41424\n",
       "           2018           1                  52500\n",
       "                          2                  67974\n",
       "                          3                 734535\n",
       "2          2017           4                   1068\n",
       "                          5                   9281\n",
       "                          6                  11581\n",
       "                          7                  13179\n",
       "                          8                  14022\n",
       "                          9                  15238\n",
       "                          10                 16655\n",
       "                          11                 21068\n",
       "                          12                 28786\n",
       "           2018           1                  31533\n",
       "                          2                  42981\n",
       "                          3                  72364\n",
       "                          4                 657656\n",
       "dtype: int64"
      ]
     },
     "execution_count": 22,
     "metadata": {},
     "output_type": "execute_result"
    }
   ],
   "source": [
    "new.groupby([\"month_lag\", \"purchase_year\", \"purchase_month\"]).size()"
   ]
  },
  {
   "cell_type": "markdown",
   "metadata": {},
   "source": [
    "## authorized flag"
   ]
  },
  {
   "cell_type": "code",
   "execution_count": 23,
   "metadata": {},
   "outputs": [
    {
     "data": {
      "text/plain": [
       "<matplotlib.axes._subplots.AxesSubplot at 0x7fb19e7625f8>"
      ]
     },
     "execution_count": 23,
     "metadata": {},
     "output_type": "execute_result"
    },
    {
     "data": {
      "image/png": "[encoded data removed]",
      "text/plain": [
       "<Figure size 432x288 with 1 Axes>"
      ]
     },
     "metadata": {
      "needs_background": "light"
     },
     "output_type": "display_data"
    }
   ],
   "source": [
    "auth = new[\"authorized_flag\"].value_counts()\n",
    "auth = auth.sort_index()\n",
    "auth.plot(kind = \"bar\")"
   ]
  },
  {
   "cell_type": "code",
   "execution_count": 25,
   "metadata": {},
   "outputs": [
    {
     "data": {
      "text/plain": [
       "array(['Y'], dtype=object)"
      ]
     },
     "execution_count": 25,
     "metadata": {},
     "output_type": "execute_result"
    }
   ],
   "source": [
    "new[\"authorized_flag\"].unique()"
   ]
  },
  {
   "cell_type": "markdown",
   "metadata": {},
   "source": [
    "## category3"
   ]
  },
  {
   "cell_type": "code",
   "execution_count": 26,
   "metadata": {},
   "outputs": [
    {
     "data": {
      "text/plain": [
       "<matplotlib.axes._subplots.AxesSubplot at 0x7fb199190f28>"
      ]
     },
     "execution_count": 26,
     "metadata": {},
     "output_type": "execute_result"
    },
    {
     "data": {
      "image/png": "[encoded data removed]",
      "text/plain": [
       "<Figure size 432x288 with 1 Axes>"
      ]
     },
     "metadata": {
      "needs_background": "light"
     },
     "output_type": "display_data"
    }
   ],
   "source": [
    "cat3 = new[\"category_3\"].value_counts()\n",
    "cat3 = cat3.sort_index()\n",
    "cat3.plot(kind = \"bar\")"
   ]
  },
  {
   "cell_type": "markdown",
   "metadata": {},
   "source": [
    "## installment"
   ]
  },
  {
   "cell_type": "code",
   "execution_count": 27,
   "metadata": {},
   "outputs": [
    {
     "data": {
      "text/plain": [
       "<matplotlib.axes._subplots.AxesSubplot at 0x7fb199142438>"
      ]
     },
     "execution_count": 27,
     "metadata": {},
     "output_type": "execute_result"
    },
    {
     "data": {
      "image/png": "[encoded data removed]",
      "text/plain": [
       "<Figure size 432x288 with 1 Axes>"
      ]
     },
     "metadata": {
      "needs_background": "light"
     },
     "output_type": "display_data"
    }
   ],
   "source": [
    "install = new[\"installments\"].value_counts()\n",
    "install = install.sort_index()\n",
    "install.plot(kind = \"bar\")"
   ]
  },
  {
   "cell_type": "markdown",
   "metadata": {},
   "source": [
    "## category 1"
   ]
  },
  {
   "cell_type": "code",
   "execution_count": 28,
   "metadata": {},
   "outputs": [
    {
     "data": {
      "text/plain": [
       "<matplotlib.axes._subplots.AxesSubplot at 0x7fb19911e4a8>"
      ]
     },
     "execution_count": 28,
     "metadata": {},
     "output_type": "execute_result"
    },
    {
     "data": {
      "image/png": "[encoded data removed]",
      "text/plain": [
       "<Figure size 432x288 with 1 Axes>"
      ]
     },
     "metadata": {
      "needs_background": "light"
     },
     "output_type": "display_data"
    }
   ],
   "source": [
    "cat1 = new[\"category_1\"].value_counts()\n",
    "cat1 = cat1.sort_index()\n",
    "cat1.plot(kind = \"bar\")"
   ]
  },
  {
   "cell_type": "markdown",
   "metadata": {},
   "source": [
    "## subsector_id"
   ]
  },
  {
   "cell_type": "code",
   "execution_count": 30,
   "metadata": {},
   "outputs": [
    {
     "data": {
      "text/plain": [
       "<matplotlib.axes._subplots.AxesSubplot at 0x7fb198f47ef0>"
      ]
     },
     "execution_count": 30,
     "metadata": {},
     "output_type": "execute_result"
    },
    {
     "data": {
      "image/png": "[encoded data removed]",
      "text/plain": [
       "<Figure size 432x288 with 1 Axes>"
      ]
     },
     "metadata": {
      "needs_background": "light"
     },
     "output_type": "display_data"
    }
   ],
   "source": [
    "sub_id = new[\"subsector_id_x\"].value_counts()\n",
    "sub_id = sub_id.sort_index()\n",
    "sub_id.plot(kind = \"bar\")"
   ]
  },
  {
   "cell_type": "markdown",
   "metadata": {},
   "source": [
    "## citi_id, state_id, category2"
   ]
  },
  {
   "cell_type": "code",
   "execution_count": 31,
   "metadata": {},
   "outputs": [
    {
     "data": {
      "text/plain": [
       "<matplotlib.axes._subplots.AxesSubplot at 0x7fb198e48630>"
      ]
     },
     "execution_count": 31,
     "metadata": {},
     "output_type": "execute_result"
    },
    {
     "data": {
      "image/png": "[encoded data removed]",
      "text/plain": [
       "<Figure size 432x288 with 1 Axes>"
      ]
     },
     "metadata": {
      "needs_background": "light"
     },
     "output_type": "display_data"
    }
   ],
   "source": [
    "cat2 = new[\"category_2\"].value_counts()\n",
    "cat2 = cat2.sort_index()\n",
    "cat2.plot(kind = \"bar\")"
   ]
  },
  {
   "cell_type": "code",
   "execution_count": 33,
   "metadata": {},
   "outputs": [
    {
     "data": {
      "text/plain": [
       "<matplotlib.axes._subplots.AxesSubplot at 0x7fb198d9ff60>"
      ]
     },
     "execution_count": 33,
     "metadata": {},
     "output_type": "execute_result"
    },
    {
     "data": {
      "image/png": "[encoded data removed]",
      "text/plain": [
       "<Figure size 432x288 with 1 Axes>"
      ]
     },
     "metadata": {
      "needs_background": "light"
     },
     "output_type": "display_data"
    }
   ],
   "source": [
    "state = new[\"state_id\"].value_counts()\n",
    "state = state.sort_index()\n",
    "state.plot(kind = \"bar\")"
   ]
  },
  {
   "cell_type": "code",
   "execution_count": 34,
   "metadata": {},
   "outputs": [
    {
     "data": {
      "text/plain": [
       "-1      99348\n",
       " 1       7414\n",
       " 2       1418\n",
       " 3       3036\n",
       " 4      16672\n",
       " 6       1672\n",
       " 7       1476\n",
       " 8       6590\n",
       " 9       1444\n",
       " 10      2268\n",
       " 11      6583\n",
       " 12      7423\n",
       " 13      2317\n",
       " 14      4910\n",
       " 16       869\n",
       " 17     65300\n",
       " 18       530\n",
       " 19     70961\n",
       " 20     13117\n",
       " 21      9441\n",
       " 22      1300\n",
       " 23      1513\n",
       " 24      5444\n",
       " 25     28314\n",
       " 26       517\n",
       " 28      1425\n",
       " 29      2570\n",
       " 30      6092\n",
       " 32       439\n",
       " 33      5200\n",
       "        ...  \n",
       " 314     8009\n",
       " 315      262\n",
       " 316       15\n",
       " 318     2039\n",
       " 319       57\n",
       " 320     3838\n",
       " 321      597\n",
       " 322     9956\n",
       " 323     3061\n",
       " 325     1791\n",
       " 326      626\n",
       " 327      617\n",
       " 328     1612\n",
       " 329     2464\n",
       " 330     2474\n",
       " 331    41429\n",
       " 333    31354\n",
       " 334     4768\n",
       " 335      600\n",
       " 336      548\n",
       " 337     1290\n",
       " 338     1127\n",
       " 339     3588\n",
       " 340     9082\n",
       " 341     2710\n",
       " 342     1477\n",
       " 343      699\n",
       " 344     9836\n",
       " 345      718\n",
       " 347     2687\n",
       "Name: city_id, Length: 308, dtype: int64"
      ]
     },
     "execution_count": 34,
     "metadata": {},
     "output_type": "execute_result"
    }
   ],
   "source": [
    "city_id = new[\"city_id\"].value_counts()\n",
    "city_id = city_id.sort_index()\n",
    "city_id"
   ]
  },
  {
   "cell_type": "code",
   "execution_count": 35,
   "metadata": {},
   "outputs": [
    {
     "data": {
      "text/plain": [
       " 185         5\n",
       " 316        15\n",
       " 273        23\n",
       " 92         25\n",
       " 319        57\n",
       " 215       145\n",
       " 207       152\n",
       " 263       242\n",
       " 178       245\n",
       " 306       262\n",
       " 315       262\n",
       " 89        276\n",
       " 204       291\n",
       " 122       297\n",
       " 227       357\n",
       " 205       375\n",
       " 222       425\n",
       " 32        439\n",
       " 130       444\n",
       " 221       451\n",
       " 112       460\n",
       " 254       465\n",
       " 84        501\n",
       " 293       510\n",
       " 71        512\n",
       " 26        517\n",
       " 235       520\n",
       " 18        530\n",
       " 237       540\n",
       " 336       548\n",
       "         ...  \n",
       " 20      13117\n",
       " 231     13140\n",
       " 161     13679\n",
       " 53      14319\n",
       " 76      14424\n",
       " 107     15629\n",
       " 286     16030\n",
       " 277     16624\n",
       " 4       16672\n",
       " 140     17831\n",
       " 117     20500\n",
       " 213     21042\n",
       " 291     22112\n",
       " 149     22288\n",
       " 160     23132\n",
       " 57      23514\n",
       " 233     26682\n",
       " 25      28314\n",
       " 333     31354\n",
       " 212     32143\n",
       " 87      33967\n",
       " 331     41429\n",
       " 137     45007\n",
       " 88      46301\n",
       " 143     53997\n",
       " 17      65300\n",
       " 19      70961\n",
       " 158     84961\n",
       "-1       99348\n",
       " 69     328916\n",
       "Name: city_id, Length: 308, dtype: int64"
      ]
     },
     "execution_count": 35,
     "metadata": {},
     "output_type": "execute_result"
    }
   ],
   "source": [
    "city_id.sort_values()"
   ]
  },
  {
   "cell_type": "code",
   "execution_count": 101,
   "metadata": {},
   "outputs": [],
   "source": [
    "corr_new = new.corr()"
   ]
  },
  {
   "cell_type": "code",
   "execution_count": 103,
   "metadata": {},
   "outputs": [
    {
     "data": {
      "image/png": "[encoded data removed]",
      "text/plain": [
       "<Figure size 432x288 with 2 Axes>"
      ]
     },
     "metadata": {
      "needs_background": "light"
     },
     "output_type": "display_data"
    }
   ],
   "source": [
    "sns.heatmap(corr_new)\n",
    "plt.show()"
   ]
  },
  {
   "cell_type": "code",
   "execution_count": 5,
   "metadata": {},
   "outputs": [
    {
     "data": {
      "text/plain": [
       "Unnamed: 0                   0\n",
       "Unnamed: 0.1                 0\n",
       "authorized_flag              0\n",
       "card_id                      0\n",
       "city_id                      0\n",
       "category_1                   0\n",
       "installments                 0\n",
       "category_3               55921\n",
       "merchant_category_id         0\n",
       "merchant_id              26216\n",
       "month_lag                    0\n",
       "purchase_amount              0\n",
       "purchase_date                0\n",
       "category_2              111744\n",
       "state_id                     0\n",
       "subsector_id_x               0\n",
       "feature_1                    0\n",
       "feature_2                    0\n",
       "feature_3                    0\n",
       "first_active_month           0\n",
       "subsector_id_y               0\n",
       "purchase_year                0\n",
       "purchase_month               0\n",
       "purchase_day                 0\n",
       "purchase_hour                0\n",
       "purchase_minute              0\n",
       "purchase_second              0\n",
       "dtype: int64"
      ]
     },
     "execution_count": 5,
     "metadata": {},
     "output_type": "execute_result"
    }
   ],
   "source": [
    "nan = new.isnull().sum()\n",
    "nan"
   ]
  },
  {
   "cell_type": "code",
   "execution_count": null,
   "metadata": {},
   "outputs": [],
   "source": []
  }
 ],
 "metadata": {
  "kernelspec": {
   "display_name": "Python 3",
   "language": "python",
   "name": "python3"
  },
  "language_info": {
   "codemirror_mode": {
    "name": "ipython",
    "version": 3
   },
   "file_extension": ".py",
   "mimetype": "text/x-python",
   "name": "python",
   "nbconvert_exporter": "python",
   "pygments_lexer": "ipython3",
   "version": "3.6.6"
  }
 },
 "nbformat": 4,
 "nbformat_minor": 2
}
